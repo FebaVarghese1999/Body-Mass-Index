{
 "cells": [
  {
   "cell_type": "code",
   "execution_count": 1,
   "id": "c5b89056",
   "metadata": {},
   "outputs": [
    {
     "name": "stdout",
     "output_type": "stream",
     "text": [
      "Enter your height in centimeters: 100\n",
      "Enter your Weight in Kg: 50\n",
      "your Body Mass Index is:  50.0\n",
      "you are severely overweight\n"
     ]
    }
   ],
   "source": [
    "Height=float(input(\"Enter your height in centimeters: \"))\n",
    "Weight=float(input(\"Enter your Weight in Kg: \"))\n",
    "Height = Height/100\n",
    "BMI=Weight/(Height*Height)\n",
    "print(\"your Body Mass Index is: \",BMI)\n",
    "if(BMI>0):\n",
    "\tif(BMI<=16):\n",
    "\t\tprint(\"you are severely underweight\")\n",
    "\telif(BMI<=18.5):\n",
    "\t\tprint(\"you are underweight\")\n",
    "\telif(BMI<=25):\n",
    "\t\tprint(\"you are Healthy\")\n",
    "\telif(BMI<=30):\n",
    "\t\tprint(\"you are overweight\")\n",
    "\telse: print(\"you are severely overweight\")\n",
    "else:(\"enter valid details\")"
   ]
  }
 ],
 "metadata": {
  "kernelspec": {
   "display_name": "Python 3 (ipykernel)",
   "language": "python",
   "name": "python3"
  },
  "language_info": {
   "codemirror_mode": {
    "name": "ipython",
    "version": 3
   },
   "file_extension": ".py",
   "mimetype": "text/x-python",
   "name": "python",
   "nbconvert_exporter": "python",
   "pygments_lexer": "ipython3",
   "version": "3.9.7"
  }
 },
 "nbformat": 4,
 "nbformat_minor": 5
}
